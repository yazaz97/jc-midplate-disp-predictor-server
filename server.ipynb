{
 "cells": [
  {
   "cell_type": "code",
   "execution_count": 27,
   "id": "c9219210-ef92-43d5-9416-ead08ed15365",
   "metadata": {},
   "outputs": [],
   "source": [
    "from flask import Flask, request, jsonify\n",
    "from flask_cors import CORS\n",
    "import os\n",
    "import joblib\n",
    "import numpy as np\n",
    "from xgboost import DMatrix\n",
    "model = joblib.load(os.path.join(os.getcwd(), \"xg_model_modified.pkl\"))"
   ]
  },
  {
   "cell_type": "code",
   "execution_count": null,
   "id": "19425b49-5bd7-4086-a85f-453c709474d7",
   "metadata": {},
   "outputs": [
    {
     "name": "stdout",
     "output_type": "stream",
     "text": [
      " * Serving Flask app '__main__'\n",
      " * Debug mode: off\n"
     ]
    },
    {
     "name": "stderr",
     "output_type": "stream",
     "text": [
      "WARNING: This is a development server. Do not use it in a production deployment. Use a production WSGI server instead.\n",
      " * Running on http://127.0.0.1:5000\n",
      "Press CTRL+C to quit\n",
      "127.0.0.1 - - [03/Oct/2024 11:36:17] \"OPTIONS / HTTP/1.1\" 200 -\n",
      "127.0.0.1 - - [03/Oct/2024 11:36:17] \"POST / HTTP/1.1\" 200 -\n",
      "127.0.0.1 - - [03/Oct/2024 11:36:35] \"OPTIONS / HTTP/1.1\" 200 -\n",
      "127.0.0.1 - - [03/Oct/2024 11:36:35] \"POST / HTTP/1.1\" 200 -\n",
      "127.0.0.1 - - [03/Oct/2024 11:36:43] \"OPTIONS / HTTP/1.1\" 200 -\n",
      "127.0.0.1 - - [03/Oct/2024 11:36:43] \"POST / HTTP/1.1\" 200 -\n",
      "127.0.0.1 - - [03/Oct/2024 11:36:55] \"OPTIONS / HTTP/1.1\" 200 -\n",
      "127.0.0.1 - - [03/Oct/2024 11:36:55] \"POST / HTTP/1.1\" 200 -\n",
      "127.0.0.1 - - [03/Oct/2024 11:53:59] \"OPTIONS / HTTP/1.1\" 200 -\n",
      "127.0.0.1 - - [03/Oct/2024 11:54:00] \"POST / HTTP/1.1\" 200 -\n"
     ]
    }
   ],
   "source": [
    "app = Flask(__name__)\n",
    "CORS(app)\n",
    "@app.route('/', methods=['POST'])\n",
    "def generate_graph():\n",
    "    body = request.get_json() \n",
    "    time_arr = np.arange(0, 0.006, 0.00003)\n",
    "    data_points = []\n",
    "\n",
    "    for i in time_arr:\n",
    "        data_from_user = [[body[\"A\"], body[\"B\"], body[\"n\"], body[\"C\"], body[\"m\"], body[\"velocity\"], body[\"density\"], body[\"impactor_mass\"], body[\"length\"], body[\"width\"], body[\"thickness\"]]]\n",
    "        time = round(i, 5)\n",
    "        data_from_user[0].insert(0, time)\n",
    "        prdct = model.predict(data_from_user)\n",
    "        disp = prdct[0]\n",
    "        time_mod = round(time*1000, 2)\n",
    "        disp_mod = round(disp*1000, 2)\n",
    "        single_point = {\n",
    "            \"x\": time_mod,\n",
    "            \"y\": disp_mod\n",
    "        }\n",
    "        data_points.append(single_point)\n",
    "    return jsonify(data_points), 200\n",
    "if __name__ == '__main__':\n",
    "    app.run(debug=False)"
   ]
  },
  {
   "cell_type": "code",
   "execution_count": null,
   "id": "de040e28-340b-4010-a565-3e927f809b26",
   "metadata": {},
   "outputs": [],
   "source": []
  }
 ],
 "metadata": {
  "kernelspec": {
   "display_name": "Python 3 (ipykernel)",
   "language": "python",
   "name": "python3"
  },
  "language_info": {
   "codemirror_mode": {
    "name": "ipython",
    "version": 3
   },
   "file_extension": ".py",
   "mimetype": "text/x-python",
   "name": "python",
   "nbconvert_exporter": "python",
   "pygments_lexer": "ipython3",
   "version": "3.12.4"
  }
 },
 "nbformat": 4,
 "nbformat_minor": 5
}
